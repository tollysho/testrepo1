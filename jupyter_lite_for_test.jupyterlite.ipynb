{
  "metadata": {
    "kernelspec": {
      "name": "python",
      "display_name": "Python (Pyodide)",
      "language": "python"
    },
    "language_info": {
      "codemirror_mode": {
        "name": "python",
        "version": 3
      },
      "file_extension": ".py",
      "mimetype": "text/x-python",
      "name": "python",
      "nbconvert_exporter": "python",
      "pygments_lexer": "ipython3",
      "version": "3.8"
    }
  },
  "nbformat_minor": 4,
  "nbformat": 4,
  "cells": [
    {
      "cell_type": "markdown",
      "source": "<p style=\"text-align:center\">\n    <a href=\"https://skills.network\" target=\"_blank\">\n    <img src=\"https://cf-courses-data.s3.us.cloud-object-storage.appdomain.cloud/assets/logos/SN_web_lightmode.png\" width=\"300\" alt=\"Skills Network Logo\">\n    </a>\n</p>\n",
      "metadata": {}
    },
    {
      "cell_type": "markdown",
      "source": "# Test Environment for Generative AI classroom labs\n\nThis lab provides a test environment for the codes generated using the Generative AI classroom.\n\nFollow the instructions below to set up this environment for further use.\n",
      "metadata": {}
    },
    {
      "cell_type": "markdown",
      "source": "# Setup\n",
      "metadata": {}
    },
    {
      "cell_type": "markdown",
      "source": "### Install required libraries\n\nIn case of a requirement of installing certain python libraries for use in your task, you may do so as shown below.\n",
      "metadata": {}
    },
    {
      "cell_type": "code",
      "source": "%pip install seaborn\nimport piplite\n\nawait piplite.install(['nbformat', 'plotly'])",
      "metadata": {
        "trusted": true
      },
      "outputs": [],
      "execution_count": 1
    },
    {
      "cell_type": "markdown",
      "source": "### Dataset URL from the GenAI lab\nUse the URL provided in the GenAI lab in the cell below. \n",
      "metadata": {}
    },
    {
      "cell_type": "code",
      "source": "URL = URL = \"https://cf-courses-data.s3.us.cloud-object-storage.appdomain.cloud/IBMDeveloperSkillsNetwork-DA0101EN-Coursera/laptop_pricing_dataset_mod1.csv\"",
      "metadata": {
        "trusted": true
      },
      "outputs": [],
      "execution_count": 2
    },
    {
      "cell_type": "markdown",
      "source": "### Downloading the dataset\n\nExecute the following code to download the dataset in to the interface.\n\n> Please note that this step is essential in JupyterLite. If you are using a downloaded version of this notebook and running it on JupyterLabs, then you can skip this step and directly use the URL in pandas.read_csv() function to read the dataset as a dataframe\n",
      "metadata": {}
    },
    {
      "cell_type": "code",
      "source": "from pyodide.http import pyfetch\n\nasync def download(url, filename):\n    response = await pyfetch(url)\n    if response.status == 200:\n        with open(filename, \"wb\") as f:\n            f.write(await response.bytes())\n\npath = URL\n\nawait download(path, \"dataset.csv\")",
      "metadata": {
        "trusted": true
      },
      "outputs": [],
      "execution_count": 4
    },
    {
      "cell_type": "markdown",
      "source": "---\n",
      "metadata": {}
    },
    {
      "cell_type": "markdown",
      "source": "# Test Environment\n",
      "metadata": {}
    },
    {
      "cell_type": "code",
      "source": "# Keep appending the code generated to this cell, or add more cells below this to execute in parts\nimport pandas as pd\n\n\n#Specify the file path\nfile_path = \"dataset.csv\"\n\n#Read CSV file into pandas dataframe\ndf = read_csv_to_dataframe(file_path)\n\n#Display dataframe\n#print(df.head())\n# Identify columns with missing values\ncolumns_with_missing_values = df.columns[df.isnull().any()]\n\n#print(columns_with_missing_values)\n\n# Replace the missing values in \"Screen_Size_cm\",  with the most frequent value in the column.\nmost_frequent_value = df['Screen_Size_cm'].mode()[0]\n#df['Screen_Size_cm'].fillna(most_frequent_value, inplace=True)\ndf['Screen_Size_cm'] = df['Screen_Size_cm'].fillna(most_frequent_value)\n\n# Replace missing values in the 'Weight_kg' column with the mean value\nmean_value = df['Weight_kg'].mean()\n#df['Weight_kg'].fillna(mean_value, inplace=True)\ndf['Weight_kg'] = df['Weight_kg'].fillna(mean_value)\n\n# Change the data type of 'Screen_Size_cm' and 'Weight_kg' to float\ndf['Screen_Size_cm'] = df['Screen_Size_cm'].astype(float)\ndf['Weight_kg'] = df['Weight_kg'].astype(float)\n\n#print(df.head())\n# Convert 'Screen_Size_cm' from centimeters to inches and modify the attribute name\ndf['Screen_Size_inch'] = df['Screen_Size_cm'] * 0.393701\ndf.drop('Screen_Size_cm', axis=1, inplace=True)\n\n# Convert 'Weight_kg' from kilograms to pounds and modify the attribute name\ndf['Weight_pounds'] = df['Weight_kg'] * 2.20462\ndf.drop('Weight_kg', axis=1, inplace=True)\n\n# Normalize the content under 'CPU_frequency' with respect to its maximum value\nmax_value = df['CPU_frequency'].max()\ndf['CPU_frequency'] = df['CPU_frequency'] / max_value\n\n# Convert the 'Screen' attribute into indicator variables\ndf1 = pd.get_dummies(df['Screen'], prefix='Screen')\n\n# Append df1 into the original data frame df\ndf = pd.concat([df, df1], axis=1)\n\n# Drop the original 'Screen' attribute from the data frame\ndf.drop('Screen', axis=1, inplace=True)\n\n\n# Assuming the exchange rate from USD to EUR is 1 USD = 0.92 EUR\nexchange_rate = 0.92\n\n# Convert the 'Price' column from USD to Euros\ndf['Price_Euro'] = df['Price'] * exchange_rate\n#df.drop('Price', axis=1, inplace=True)\n\n\n# Perform Min-Max normalization on 'CPU_frequency'\nmin_value = df['CPU_frequency'].min()\nmax_value = df['CPU_frequency'].max()\n\n# Min-Max normalization formula: (value - min) / (max - min)\ndf['CPU_frequency'] = (df['CPU_frequency'] - min_value) / (max_value - min_value)\n\n# Display the updated DataFrame\nprint(df.head())\n\n\n",
      "metadata": {
        "trusted": true
      },
      "outputs": [
        {
          "name": "stdout",
          "text": "   Unnamed: 0 Manufacturer  Category  GPU  OS  CPU_core  CPU_frequency  \\\n0           0         Acer         4    2   1         5       0.235294   \n1           1         Dell         3    1   1         3       0.470588   \n2           2         Dell         3    1   1         7       0.882353   \n3           3         Dell         4    2   1         5       0.235294   \n4           4           HP         4    2   1         7       0.352941   \n\n   RAM_GB  Storage_GB_SSD  Price  Screen_Size_inch  Weight_pounds  \\\n0       8             256    978         14.000008       3.527392   \n1       4             256    634         15.600008       4.850164   \n2       8             256    946         15.600008       4.850164   \n3       8             128   1244         13.300007       2.689636   \n4       8             256    837         15.600008       4.210824   \n\n   Screen_Full HD  Screen_IPS Panel  Price_Euro  \n0           False              True      899.76  \n1            True             False      583.28  \n2            True             False      870.32  \n3           False              True     1144.48  \n4            True             False      770.04  \n",
          "output_type": "stream"
        }
      ],
      "execution_count": 26
    },
    {
      "cell_type": "markdown",
      "source": "## Authors\n",
      "metadata": {}
    },
    {
      "cell_type": "markdown",
      "source": "[Abhishek Gagneja](https://www.linkedin.com/in/abhishek-gagneja-23051987/)\n",
      "metadata": {}
    },
    {
      "cell_type": "markdown",
      "source": "## Change Log\n",
      "metadata": {}
    },
    {
      "cell_type": "markdown",
      "source": "|Date (YYYY-MM-DD)|Version|Changed By|Change Description|\n|-|-|-|-|\n|2023-12-10|0.1|Abhishek Gagneja|Initial Draft created|\n",
      "metadata": {}
    },
    {
      "cell_type": "markdown",
      "source": "Copyright © 2023 IBM Corporation. All rights reserved.\n",
      "metadata": {}
    }
  ]
}